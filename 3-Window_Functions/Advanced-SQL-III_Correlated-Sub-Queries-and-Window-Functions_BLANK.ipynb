{
 "cells": [
  {
   "cell_type": "markdown",
   "metadata": {},
   "source": [
    "# Advanced SQL III: Correlated Sub-Queries and Window Functions\n",
    "_**Author**: Boom Devahastin Na Ayudhya_\n",
    "***"
   ]
  },
  {
   "cell_type": "markdown",
   "metadata": {},
   "source": [
    "Alright, it's the final stretch! This is the last of the 3-part workshop on Advanced SQL techniques."
   ]
  },
  {
   "cell_type": "markdown",
   "metadata": {},
   "source": [
    "## Warm-Up\n",
    "\n",
    "**Warm-Up Exercise:**\n",
    "Write a query that shows the department and the number of people in each department."
   ]
  },
  {
   "cell_type": "markdown",
   "metadata": {},
   "source": [
    "_Answer:_\n",
    "```MySQL\n",
    "\n",
    "```"
   ]
  },
  {
   "cell_type": "markdown",
   "metadata": {},
   "source": [
    "**But what about this:** Write a query that includes each employee's first_name, their department and the number of people in their department.\n",
    "\n",
    "Some of you might be thinking you can just add `first_name` as an additional column and throw that into the `GROUP BY` like:\n",
    "```MySQL\n",
    "SELECT  first_name,\n",
    "        department,\n",
    "        COUNT(department)\n",
    "FROM employees\n",
    "GROUP BY department, first_name\n",
    "```\n",
    "But why does this **_NOT_ work**?\n",
    "\n",
    "Here's the **right version** which makes use of sub-queries:\n",
    "```MySQL\n",
    "SELECT  first_name,\n",
    "        department,\n",
    "        (SELECT COUNT(department)\n",
    "         FROM employees e1\n",
    "         WHERE e1.department = e2.department)\n",
    "FROM employees e2\n",
    "```\n",
    "This is what we call a **correlated sub-query**, which is a little complicated but useful. However, correlated sub-queries can be computationally inefficient because here it has to run for every single row! So...what's better?"
   ]
  },
  {
   "cell_type": "markdown",
   "metadata": {},
   "source": [
    "## Window Functions!\n",
    "\n",
    "Just to be clear a window function is **NOT** a function called `WINDOW()` - it is a family of functions that _**operate on a group of rows (window) that are somehow related to the current row**_.\n",
    "\n",
    "This necessarily means `GROUP BY` is being used **_behind the scenes_** but we do not necessarily need to explicitly call `GROUP BY` anymore when we use window functions!\n",
    "\n",
    "**IMPORTANT WARNING:** Depending on the SQL dialect used at your company, you may not have access to Window functions. PostgreSQL (which we're using here) supports it; however, MySQL does not."
   ]
  },
  {
   "cell_type": "markdown",
   "metadata": {},
   "source": [
    "### `OVER()`: Basic Uses\n",
    "The most common Window Function is `OVER()` which allows us to specify the \"window\" (or group of rows) that is the focus of our analysis.\n",
    "\n",
    "_Example:_\n",
    "```MySQL\n",
    "SELECT  first_name,\n",
    "\t\tdepartment,\n",
    "\t\tCOUNT(*) OVER(PARTITION BY department)\n",
    "FROM employees\n",
    "```\n",
    "\n",
    "Let's check that the output of the correlated sub-query method we used earlier is equivalent to this:\n",
    "\n",
    "```MySQL\n",
    "(SELECT  first_name,\n",
    "        department,\n",
    "        (SELECT COUNT(department)\n",
    "         FROM employees e1\n",
    "         WHERE e1.department = e2.department)\n",
    "FROM employees e2)\n",
    "\n",
    "EXCEPT\n",
    "\n",
    "(SELECT  first_name,\n",
    "\t\tdepartment,\n",
    "\t\tCOUNT(*) OVER(PARTITION BY department)\n",
    "FROM employees)\n",
    "```\n",
    "\n",
    "**Exercise 1:** Write a query that includes each employee's first_name, their department and the total salaries earned of people in their department using\n",
    "\n",
    "**(a) The Correlated Sub-Query Method**"
   ]
  },
  {
   "cell_type": "markdown",
   "metadata": {},
   "source": [
    "_Answer:_\n",
    "```MySQL\n",
    "\n",
    "```"
   ]
  },
  {
   "cell_type": "markdown",
   "metadata": {},
   "source": [
    "**(b) The Window Function Method**"
   ]
  },
  {
   "cell_type": "markdown",
   "metadata": {},
   "source": [
    "_Answer:_\n",
    "```MySQL\n",
    "\n",
    "```"
   ]
  },
  {
   "cell_type": "markdown",
   "metadata": {},
   "source": [
    "**Exercise 2:** Write a query that includes:\n",
    "- each employee's first_name\n",
    "- their department\n",
    "- their department size\n",
    "- their region_id\n",
    "- the total salaries earned of people in their region\n",
    "\n",
    "using as few lines of code as possible."
   ]
  },
  {
   "cell_type": "markdown",
   "metadata": {},
   "source": [
    "_Answer:_\n",
    "```MySQL\n",
    "\n",
    "```"
   ]
  },
  {
   "cell_type": "markdown",
   "metadata": {},
   "source": [
    "### `OVER()`: Cumulative Sums\n",
    "\n",
    "Beyond the basic uses of `OVER()` as a more flexible `GROUP BY`, we can also use it to help us do cumulative calculations. \n",
    "\n",
    "_Example:_ Write a query that returns the first name of all employees, the hire_date, the employee's salary, and **the total salaries earned by employees on each date** (call it \"cumulative_salary\").\n",
    "\n",
    "```MySQL\n",
    "SELECT  first_name,\n",
    "        hire_date,\n",
    "        salary,\n",
    "        SUM(salary) OVER(ORDER BY hire_date -- this is the index we are going by\n",
    "                         RANGE BETWEEN UNBOUNDED PRECEDING AND CURRENT ROW) AS cumulative_salary -- the input range\n",
    "FROM employees\n",
    "```"
   ]
  },
  {
   "cell_type": "markdown",
   "metadata": {},
   "source": [
    "The `UNBOUNDED PRECEDING` here means from the start of the ordered series (earliest hire_date in this case)."
   ]
  },
  {
   "cell_type": "markdown",
   "metadata": {},
   "source": [
    "**Exercise 3:** Write a query that returns the first name, hire date, salary, and cumulative salaries paid at each date for each department since the company was founded."
   ]
  },
  {
   "cell_type": "markdown",
   "metadata": {},
   "source": [
    "_Answer:_\n",
    "```MySQL\n",
    "\n",
    "```"
   ]
  },
  {
   "cell_type": "markdown",
   "metadata": {},
   "source": [
    "### `OVER()`: Rolling Averages"
   ]
  },
  {
   "cell_type": "markdown",
   "metadata": {},
   "source": [
    "This is very similar to cumulative sums except we just need to change `SUM()` $\\rightarrow$ `AVG()` and change `UNBOUNDED PRECEEDING` to a specified window.\n",
    "\n",
    "It makes more sense to work with financial data to do this so let's switch gears to the `DailyQuote` table which you can access if you create a new database using commands from `DailyQuote_essentialsql.txt` _(Source: https://www.essentialsql.com/sql-puzzle-calculate-moving-averages/)_\n",
    "\n",
    "*Example:* Calculate the 3-day rolling average closing price of the stock at each date.\n",
    "```MySQL\n",
    "SELECT  MarketDate,\n",
    "        ClosingPrice,\n",
    "        AVG(ClosingPrice) OVER (ORDER BY MarketDate ASC\n",
    "                                ROWS BETWEEN '2' PRECEDING AND CURRENT ROW) AS \"3D_roll_avg\"\n",
    "FROM DailyQuote\n",
    "```"
   ]
  },
  {
   "cell_type": "markdown",
   "metadata": {},
   "source": [
    "**Exercise 4:** Calculate the 5-day rolling average closing price of the stock at each date."
   ]
  },
  {
   "cell_type": "markdown",
   "metadata": {},
   "source": [
    "_Answer:_\n",
    "```MySQL\n",
    "```"
   ]
  },
  {
   "cell_type": "markdown",
   "metadata": {},
   "source": [
    "**Exercise 5:** Calculate the 10-day and 30-day rolling average closing price of the stock at each date.\n",
    "_(You can try this the quick way, or as a bonus try doing this the right way)_ "
   ]
  },
  {
   "cell_type": "markdown",
   "metadata": {},
   "source": [
    "_Answer:_\n",
    "```MySQL\n",
    "\n",
    "```"
   ]
  }
 ],
 "metadata": {
  "kernelspec": {
   "display_name": "Python 3",
   "language": "python",
   "name": "python3"
  },
  "language_info": {
   "codemirror_mode": {
    "name": "ipython",
    "version": 3
   },
   "file_extension": ".py",
   "mimetype": "text/x-python",
   "name": "python",
   "nbconvert_exporter": "python",
   "pygments_lexer": "ipython3",
   "version": "3.7.1"
  }
 },
 "nbformat": 4,
 "nbformat_minor": 2
}
